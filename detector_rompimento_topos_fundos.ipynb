{
  "nbformat": 4,
  "nbformat_minor": 0,
  "metadata": {
    "colab": {
      "provenance": [],
      "include_colab_link": true
    },
    "kernelspec": {
      "name": "python3",
      "display_name": "Python 3"
    },
    "language_info": {
      "name": "python"
    }
  },
  "cells": [
    {
      "cell_type": "markdown",
      "metadata": {
        "id": "view-in-github",
        "colab_type": "text"
      },
      "source": [
        "<a href=\"https://colab.research.google.com/github/GeorgeTelles/detector_rompimento_topos_fundos/blob/main/detector_rompimento_topos_fundos.ipynb\" target=\"_parent\"><img src=\"https://colab.research.google.com/assets/colab-badge.svg\" alt=\"Open In Colab\"/></a>"
      ]
    },
    {
      "cell_type": "markdown",
      "source": [
        "<a href=\"https://postimg.cc/FYtnXpJw\">\n",
        "  <img src=\"https://i.postimg.cc/t470PmRR/logo-sem-fundo-01.png\" alt=\"logo\" width=\"300\">\n",
        "</a>"
      ],
      "metadata": {
        "id": "lwGTyCZM8Pbd"
      }
    },
    {
      "cell_type": "markdown",
      "source": [
        "---\n",
        "# **Detector de rompimento de topos e fundos**\n",
        "\n",
        "#### O projeto é uma ferramenta automatizada que analisa ativos financeiros para identificar e relatar rompimentos de topos e fundos. O sistema monitora vários ativos, detecta quando estes atravessam níveis críticos e gera relatórios sobre quais ativos estão atualmente rompendo topos ou fundos. Ideal para investidores que buscam identificar oportunidades e riscos de mercado de forma eficiente.\n",
        "\n",
        "\n",
        "---"
      ],
      "metadata": {
        "id": "QOL5rohn8alC"
      }
    },
    {
      "cell_type": "markdown",
      "source": [
        "#1. Bibliotecas"
      ],
      "metadata": {
        "id": "Tb-4Cnz_80Ya"
      }
    },
    {
      "cell_type": "code",
      "source": [
        "!pip install mplfinance"
      ],
      "metadata": {
        "id": "bJLGSghk9UxT"
      },
      "execution_count": null,
      "outputs": []
    },
    {
      "cell_type": "code",
      "source": [
        "import pandas as pd\n",
        "import numpy as np\n",
        "import pytz\n",
        "import yfinance as yf\n",
        "import mplfinance as mpf\n",
        "import plotly.graph_objects as go"
      ],
      "metadata": {
        "id": "XzjIsYIZ850f"
      },
      "execution_count": null,
      "outputs": []
    },
    {
      "cell_type": "markdown",
      "source": [
        "#2. Obtenção de dados OHLC"
      ],
      "metadata": {
        "id": "ymarqeIs9nYg"
      }
    },
    {
      "cell_type": "code",
      "source": [
        "lista_tickers = ['ABEV3', 'ALPA4', 'ALSO3', 'ARZZ3', 'ASAI3', 'AZUL4', 'B3SA3', 'BBAS3', 'BBDC3', 'BBDC4',\n",
        "                 'BBSE3', 'BEEF3', 'BPAC11', 'BPAN4', 'BRAP4', 'BRFS3', 'BRKM5', 'CASH3', 'CCRO3', 'CIEL3',\n",
        "                 'CMIG4', 'CMIN3', 'COGN3', 'CPFE3', 'CPLE6', 'CRFB3', 'CSAN3', 'CSNA3', 'CVCB3', 'CYRE3',\n",
        "                 'DXCO3', 'ECOR3', 'EGIE3', 'ELET3', 'ELET6', 'EMBR3', 'ENBR3', 'ENEV3', 'ENGI11', 'EQTL3',\n",
        "                 'EZTC3', 'FLRY3', 'GGBR4', 'GOAU4', 'GOLL4', 'HAPV3', 'HYPE3', 'IGTI11', 'ITSA4', 'ITUB4',\n",
        "                 'JBSS3', 'KLBN11', 'LREN3', 'LWSA3', 'MGLU3', 'MRFG3', 'MRVE3', 'MULT3', 'NTCO3', 'PCAR3',\n",
        "                 'PETR3', 'PETR4', 'PETZ3', 'PRIO3', 'QUAL3', 'RADL3', 'RAIL3', 'RAIZ4', 'RDOR3', 'RENT3',\n",
        "                 'RRRP3', 'SANB11', 'SBSP3', 'SLC3', 'SMTO3', 'SOMA3', 'SUZB3', 'TAEE11', 'TIMS3', 'TOTS3',\n",
        "                 'UGPA3', 'USIM5', 'VALE3', 'VBBR3', 'VIIA3', 'VIVT3', 'WEGE3', 'YDUQ3']\n",
        "\n",
        "lista_tickers_yf = [x + '.SA' for x in lista_tickers]"
      ],
      "metadata": {
        "id": "vPvDW0en94cG"
      },
      "execution_count": null,
      "outputs": []
    },
    {
      "cell_type": "code",
      "source": [
        "# Lista para armazenar tickers com falha\n",
        "tickers_remover = []\n",
        "indice_ativo = 0\n",
        "ls_close_ativos = []\n",
        "falha_download_ativos = []\n",
        "\n",
        "for i in lista_tickers_yf:\n",
        "    try:\n",
        "        # Tenta fazer o download dos dados\n",
        "        df_1d_ativo = yf.download(i, period=\"1y\", interval='1d', auto_adjust=True)\n",
        "        if df_1d_ativo.empty:\n",
        "            raise ValueError(f\"DataFrame vazio para o ticker {i}\")\n",
        "\n",
        "        df_1d_ativo['Ticker'] = i\n",
        "        df_1d_ativo['Indice_ativo'] = indice_ativo\n",
        "        indice_ativo += 1\n",
        "        ls_close_ativos.append(df_1d_ativo)\n",
        "    except Exception as e:\n",
        "        print(f\"Erro ao baixar dados para o ticker {i}: {e}\")\n",
        "        falha_download_ativos.append(i)\n",
        "        tickers_remover.append(i)\n",
        "\n",
        "# Atualiza lista_tickers_yf removendo tickers com falha\n",
        "lista_tickers_yf = [ticker for ticker in lista_tickers_yf if ticker not in tickers_remover]\n",
        "\n",
        "list(enumerate(lista_tickers_yf))\n",
        "pass"
      ],
      "metadata": {
        "id": "8WZFRbOnldNP"
      },
      "execution_count": null,
      "outputs": []
    },
    {
      "cell_type": "markdown",
      "source": [
        "#3. Construção das Funções"
      ],
      "metadata": {
        "id": "K9QSuleL-nRm"
      }
    },
    {
      "cell_type": "markdown",
      "source": [
        "###Função que vai Localizar Topos e Fundos"
      ],
      "metadata": {
        "id": "Rs-fQUnuvQc-"
      }
    },
    {
      "cell_type": "code",
      "source": [
        "def localizador_fundos(df, n_candles=5):\n",
        "  df_invertido = df.iloc[::-1]\n",
        "\n",
        "  cond_low_anteriores = df['Low'] <= df['Low'].rolling(n_candles, closed='left').min()\n",
        "  cond_low_posteriores = df_invertido['Low'] <= df_invertido['Low'].rolling(n_candles, closed='left').min()\n",
        "\n",
        "  return (cond_low_anteriores & cond_low_posteriores)\n",
        "\n",
        "def localizador_topos(df, n_candles=5):\n",
        "  df_invertido = df.iloc[::-1]\n",
        "\n",
        "  cond_high_anteriores = df['High'] <= df['High'].rolling(n_candles, closed='left').max()\n",
        "  cond_high_posteriores = df_invertido['High'] <= df_invertido['High'].rolling(n_candles, closed='left').max()\n",
        "\n",
        "  return (cond_high_anteriores & cond_high_posteriores)"
      ],
      "metadata": {
        "id": "Nqel69waDYMi"
      },
      "execution_count": null,
      "outputs": []
    },
    {
      "cell_type": "markdown",
      "source": [
        "Percorrendo em todos os ativos as funções de localizar topos e fundos mais atuais e criando uma lista com todos os dataframes que contem as informações de topos e fundos de todos os ativos"
      ],
      "metadata": {
        "id": "qWvbfkRlvPO7"
      }
    },
    {
      "cell_type": "code",
      "source": [
        "n_candles = 10 # esse valor que indica quantos candles passados e futuros o algoritmo vai avaliar para indicar um topo ou fundo.\n",
        "#exemplo: n_candles = 10 significa que um topo só será valido se ele for maior que os ultimos 10 candles e os 10 candles a frente.\n",
        "\n",
        "ls_ativos_topos_fundos = []\n",
        "\n",
        "\n",
        "for df in ls_close_ativos:\n",
        "  print(f'Rodando para o ticker {df.Ticker.iloc[0]}...')\n",
        "\n",
        "\n",
        "  ls_vertices = ['neutro']\n",
        "  dict_topos_fundos = {'vertice': [], 'data': [], 'preco': []}\n",
        "\n",
        "  for i in range(len(df)):\n",
        "\n",
        "    if localizador_fundos(df, n_candles).iloc[i]:\n",
        "\n",
        "      if ls_vertices[-1] != 'fundo':\n",
        "        dict_topos_fundos['vertice'].append('fundo')\n",
        "        dict_topos_fundos['data'].append(df.index[i])\n",
        "        dict_topos_fundos['preco'].append(df.Low.iloc[i])\n",
        "        ls_vertices.append('fundo')\n",
        "\n",
        "      else:\n",
        "        if df.Low.iloc[i] < dict_topos_fundos['preco'][-1]:\n",
        "          dict_topos_fundos['data'][-1] = df.index[i]\n",
        "          dict_topos_fundos['preco'][-1] = df.Low.iloc[i]\n",
        "\n",
        "    if localizador_topos(df, n_candles).iloc[i]:\n",
        "\n",
        "      if ls_vertices[-1] != 'topo':\n",
        "        dict_topos_fundos['vertice'].append('topo')\n",
        "        dict_topos_fundos['data'].append(df.index[i])\n",
        "        dict_topos_fundos['preco'].append(df.High.iloc[i])\n",
        "        ls_vertices.append('topo')\n",
        "\n",
        "      else:\n",
        "        if df.High.iloc[i] > dict_topos_fundos['preco'][-1]:\n",
        "          dict_topos_fundos['data'][-1] = df.index[i]\n",
        "          dict_topos_fundos['preco'][-1] = df.High.iloc[i]\n",
        "\n",
        "\n",
        "  df_topos_fundos = pd.DataFrame(dict_topos_fundos)\n",
        "  df_topos_fundos.index = df_topos_fundos.data\n",
        "\n",
        "  df_final = pd.merge(df, df_topos_fundos, left_index=True, right_index=True, how='left')\n",
        "\n",
        "  ls_ativos_topos_fundos.append(df_final)\n"
      ],
      "metadata": {
        "id": "ud0_Vm9WmdT3"
      },
      "execution_count": null,
      "outputs": []
    },
    {
      "cell_type": "markdown",
      "source": [
        "Função que vai verificar se o preço atual está rompendo o topo ou fundo atual."
      ],
      "metadata": {
        "id": "_lzId3qMz3M9"
      }
    },
    {
      "cell_type": "code",
      "source": [
        "def ativo_rompeu_topo(df):\n",
        "    # Filtra o DataFrame para obter a última linha onde o vertice é 'topo'\n",
        "    topo_df = df[df.vertice == 'topo']\n",
        "\n",
        "    if topo_df.empty:\n",
        "        return 'Nenhum topo encontrado'\n",
        "\n",
        "    ultimo_topo = topo_df['preco'].iloc[-1]\n",
        "\n",
        "    preco_atual = df['Close'].iloc[-1]\n",
        "\n",
        "    # Calcula a distância do topo em porcentagem\n",
        "    distancia_topo = ((ultimo_topo - preco_atual) / ultimo_topo) * 100\n",
        "\n",
        "    if distancia_topo < 0:\n",
        "        return 'rompeu topo'\n",
        "    else:\n",
        "        return 'não rompeu topo'\n",
        "\n",
        "def ativo_rompeu_fundo(df):\n",
        "    # Filtra o DataFrame para obter a última linha onde o vertice é 'fundo'\n",
        "    fundo_df = df[df.vertice == 'fundo']\n",
        "\n",
        "    if fundo_df.empty:\n",
        "        return 'Nenhum fundo encontrado'\n",
        "\n",
        "    ultimo_fundo = fundo_df['preco'].iloc[-1]\n",
        "\n",
        "    preco_atual = df['Close'].iloc[-1]\n",
        "\n",
        "    # Calcula a distância do fundo em porcentagem\n",
        "    distancia_fundo = ((preco_atual - ultimo_fundo) / ultimo_fundo) * 100\n",
        "\n",
        "    if distancia_fundo < 0:\n",
        "        return 'rompeu fundo'\n",
        "    else:\n",
        "        return 'não rompeu fundo'\n",
        "\n"
      ],
      "metadata": {
        "id": "OhBmT4UasBZ3"
      },
      "execution_count": null,
      "outputs": []
    },
    {
      "cell_type": "markdown",
      "source": [
        "#Chamando função e executando o Screen"
      ],
      "metadata": {
        "id": "3LpjvIx1z8jl"
      }
    },
    {
      "cell_type": "code",
      "source": [
        "for df in ls_ativos_topos_fundos:\n",
        "    topo_status = ativo_rompeu_topo(df)\n",
        "    fundo_status = ativo_rompeu_fundo(df)\n",
        "\n",
        "    ticker = df.Ticker.iloc[0]\n",
        "    indice_ativo = df.Indice_ativo.iloc[0]\n",
        "\n",
        "    if topo_status == 'rompeu topo':\n",
        "        print(f'🟢{ticker} Rompeu topo anterior🟢')\n",
        "\n",
        "    if fundo_status == 'rompeu fundo':\n",
        "        print(f'🔴{ticker} Rompeu fundo anterior🔴')"
      ],
      "metadata": {
        "id": "gOMnZGOlsuTv"
      },
      "execution_count": null,
      "outputs": []
    }
  ]
}